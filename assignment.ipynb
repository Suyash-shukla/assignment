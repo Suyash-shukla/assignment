{
 "cells": [
  {
   "cell_type": "code",
   "execution_count": null,
   "id": "89294a8a",
   "metadata": {},
   "outputs": [],
   "source": [
    "1.Write a python function which should be capable of finding the factorial of any given number as an \n",
    "argument."
   ]
  },
  {
   "cell_type": "code",
   "execution_count": 2,
   "id": "bbbfff3b",
   "metadata": {},
   "outputs": [
    {
     "name": "stdout",
     "output_type": "stream",
     "text": [
      "ENTER THE NUMBER U NEED FACTORIAL OF  5\n",
      "factorial of given number is  120\n"
     ]
    }
   ],
   "source": [
    "def fact(n):\n",
    "    if n==0:\n",
    "        return 1\n",
    "    else:\n",
    "        return n*fact(n-1)\n",
    "Num=int(input(\"ENTER THE NUMBER U NEED FACTORIAL OF  \"))\n",
    "if Num<0:\n",
    "    print(\"there is no factorial of negative number sorry\")\n",
    "elif Num==(0 or 1):\n",
    "    print(\"factorial of  0 and 1 is always 1\")\n",
    "else:\n",
    "    print(\"factorial of given number is \" ,fact(Num))"
   ]
  },
  {
   "cell_type": "markdown",
   "id": "1c8f1f8e",
   "metadata": {},
   "source": [
    "Write a function which accepts 3 arguments from the user.1 .number 1, 2. Number2 and 3. An \n",
    "operation. The operation supported should be +, -, *, and /. The function should return the result of \n",
    "given operation. For example arguments are 3,2,+ then result returned should be 5"
   ]
  },
  {
   "cell_type": "code",
   "execution_count": 10,
   "id": "06bf7be2",
   "metadata": {},
   "outputs": [],
   "source": [
    "def cal(a,b,c):\n",
    "    if c == \"+\":\n",
    "        return a+b\n",
    "    elif c== \"-\":\n",
    "        return a-b\n",
    "    elif c==\"*\":\n",
    "        return a*b\n",
    "    elif c==\"/\":\n",
    "        return a/b\n",
    "    else:\n",
    "        print('''INVALID OPERATOR \n",
    "        BETTER LUCK NEXT TIME''')"
   ]
  },
  {
   "cell_type": "code",
   "execution_count": 18,
   "id": "aeca1de3",
   "metadata": {
    "scrolled": true
   },
   "outputs": [
    {
     "data": {
      "text/plain": [
       "10"
      ]
     },
     "execution_count": 18,
     "metadata": {},
     "output_type": "execute_result"
    }
   ],
   "source": [
    "cal(5,5,\"+\")"
   ]
  },
  {
   "cell_type": "code",
   "execution_count": null,
   "id": "6277e355",
   "metadata": {},
   "outputs": [],
   "source": []
  },
  {
   "cell_type": "code",
   "execution_count": null,
   "id": "721087d1",
   "metadata": {},
   "outputs": [],
   "source": []
  },
  {
   "cell_type": "code",
   "execution_count": null,
   "id": "f5543288",
   "metadata": {},
   "outputs": [],
   "source": []
  },
  {
   "cell_type": "code",
   "execution_count": null,
   "id": "fda05f40",
   "metadata": {},
   "outputs": [],
   "source": []
  },
  {
   "cell_type": "code",
   "execution_count": null,
   "id": "abd78eb3",
   "metadata": {},
   "outputs": [],
   "source": []
  }
 ],
 "metadata": {
  "kernelspec": {
   "display_name": "Python 3 (ipykernel)",
   "language": "python",
   "name": "python3"
  },
  "language_info": {
   "codemirror_mode": {
    "name": "ipython",
    "version": 3
   },
   "file_extension": ".py",
   "mimetype": "text/x-python",
   "name": "python",
   "nbconvert_exporter": "python",
   "pygments_lexer": "ipython3",
   "version": "3.9.7"
  }
 },
 "nbformat": 4,
 "nbformat_minor": 5
}
